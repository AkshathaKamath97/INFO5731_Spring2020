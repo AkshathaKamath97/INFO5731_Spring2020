{
  "nbformat": 4,
  "nbformat_minor": 0,
  "metadata": {
    "colab": {
      "name": "Random_generate_group.ipynb",
      "provenance": [],
      "collapsed_sections": [],
      "authorship_tag": "ABX9TyNe0ETE0cuci6P0V6Ehk4nw",
      "include_colab_link": true
    },
    "kernelspec": {
      "name": "python3",
      "display_name": "Python 3"
    }
  },
  "cells": [
    {
      "cell_type": "markdown",
      "metadata": {
        "id": "view-in-github",
        "colab_type": "text"
      },
      "source": [
        "<a href=\"https://colab.research.google.com/github/unt-iialab/INFO5731_Spring2020/blob/master/Interesting_Code/Random_generate_group.ipynb\" target=\"_parent\"><img src=\"https://colab.research.google.com/assets/colab-badge.svg\" alt=\"Open In Colab\"/></a>"
      ]
    },
    {
      "cell_type": "code",
      "metadata": {
        "id": "tQXbjyxqnq6-",
        "colab_type": "code",
        "colab": {
          "base_uri": "https://localhost:8080/",
          "height": 87
        },
        "outputId": "0fdd0243-f0c2-40bc-b0d0-392e322a1842"
      },
      "source": [
        "import random\n",
        "#sampling with replacement\n",
        "studnet_list = ['sa0753','laa0240','lba0043','pb0283','vmb0067','vcd0017','ag1121','lg0426','mj0396','ak0860','vk0222','vk0216',\n",
        "                'tpk0023','nk0327','mk0830','tbl0041','al0787','am1823','sm1515','km0738','hn0139','an0521','ap0975','dp1080',\n",
        "                'pk0292','vp0241','rp0477','hr0178','ps0501','ss1976','ss1872','ss1872','bs0490','pt0218','ry0104']\n",
        "for i in range(4):\n",
        "  sampling = random.choices(studnet_list, k=6)\n",
        "  studnet_list = [i for i in studnet_list if i not in sampling]\n",
        "  print(\"Group \" +str(i+1)+\": \", sampling)"
      ],
      "execution_count": 6,
      "outputs": [
        {
          "output_type": "stream",
          "text": [
            "Group 1:  ['hr0178', 'vp0241', 'vk0216', 'mk0830', 'vcd0017', 'bs0490']\n",
            "Group 2:  ['sa0753', 'lg0426', 'pk0292', 'sm1515', 'ap0975', 'hn0139']\n",
            "Group 3:  ['ss1976', 'mj0396', 'rp0477', 'tpk0023', 'vk0222', 'ps0501']\n",
            "Group 4:  ['lba0043', 'laa0240', 'an0521', 'dp1080', 'ss1872', 'ry0104']\n"
          ],
          "name": "stdout"
        }
      ]
    }
  ]
}
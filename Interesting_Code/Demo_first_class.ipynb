{
  "nbformat": 4,
  "nbformat_minor": 0,
  "metadata": {
    "colab": {
      "name": "Demo_first_class.ipynb",
      "provenance": [],
      "collapsed_sections": [],
      "authorship_tag": "ABX9TyNlZpkHVUyanIXDBwCdJP6P",
      "include_colab_link": true
    },
    "kernelspec": {
      "name": "python3",
      "display_name": "Python 3"
    }
  },
  "cells": [
    {
      "cell_type": "markdown",
      "metadata": {
        "id": "view-in-github",
        "colab_type": "text"
      },
      "source": [
        "<a href=\"https://colab.research.google.com/github/unt-iialab/INFO5731_Spring2020/blob/master/Interesting_Code/Demo_first_class.ipynb\" target=\"_parent\"><img src=\"https://colab.research.google.com/assets/colab-badge.svg\" alt=\"Open In Colab\"/></a>"
      ]
    },
    {
      "cell_type": "markdown",
      "metadata": {
        "id": "KZHAZGH_gIl1",
        "colab_type": "text"
      },
      "source": [
        "# First example: Python for collecting data from the web"
      ]
    },
    {
      "cell_type": "code",
      "metadata": {
        "id": "TCnOWU1yf-x5",
        "colab_type": "code",
        "colab": {
          "base_uri": "https://localhost:8080/",
          "height": 35
        },
        "outputId": "ff87493e-1900-48f9-ae66-48dc7561c650"
      },
      "source": [
        "!pip install beautifulsoup4"
      ],
      "execution_count": 1,
      "outputs": [
        {
          "output_type": "stream",
          "text": [
            "Requirement already satisfied: beautifulsoup4 in /usr/local/lib/python3.6/dist-packages (4.6.3)\n"
          ],
          "name": "stdout"
        }
      ]
    },
    {
      "cell_type": "code",
      "metadata": {
        "id": "qQNEXB3pg_T2",
        "colab_type": "code",
        "colab": {
          "base_uri": "https://localhost:8080/",
          "height": 325
        },
        "outputId": "5793f949-d393-41b3-d0ef-d9a622c52402"
      },
      "source": [
        "#import the library used to query a website\n",
        "import urllib.request\n",
        "#import the Beautiful soup functions to parse the data returned from the website\n",
        "from bs4 import BeautifulSoup\n",
        "import pandas as pd\n",
        "\n",
        "url = \"https://forecast.weather.gov/MapClick.php?textField1=33.22&textField2=-97.15#.XaXfI0ZKjb0\"\n",
        "#Query the website and return the html to the variable 'page'\n",
        "page = urllib.request.urlopen(url)\n",
        "#Parse the html in the 'page' variable, and store it in Beautiful Soup format\n",
        "soup = BeautifulSoup(page)\n",
        "# return the section that contains the seven day weather information by using the div \"id\"\n",
        "seven_day = soup.find(id=\"seven-day-forecast\")\n",
        "# return weather information for each day\n",
        "forecast_items = seven_day.find_all(class_=\"tombstone-container\")\n",
        "\n",
        "# tonight information: select the first item in the list\n",
        "tonight = forecast_items[0]\n",
        "period = tonight.find(class_=\"period-name\").get_text()\n",
        "short_desc = tonight.find(class_=\"short-desc\").get_text()\n",
        "temp = tonight.find(class_=\"temp\").get_text()\n",
        "img = tonight.find(\"img\")\n",
        "desc = img['title']\n",
        "period_tags = seven_day.select(\".tombstone-container .period-name\")\n",
        "periods = [pt.get_text() for pt in period_tags]\n",
        "short_descs = [sd.get_text() for sd in seven_day.select(\".tombstone-container .short-desc\")]\n",
        "temps = [t.get_text() for t in seven_day.select(\".tombstone-container .temp\")]\n",
        "descs = [d[\"title\"] for d in seven_day.select(\".tombstone-container img\")]\n",
        "weather = pd.DataFrame({\n",
        "    \"period\": periods,\n",
        "    \"short_desc\": short_descs,\n",
        "    \"temp\": temps,\n",
        "    \"desc\":descs\n",
        "})\n",
        "\n",
        "weather"
      ],
      "execution_count": 6,
      "outputs": [
        {
          "output_type": "execute_result",
          "data": {
            "text/html": [
              "<div>\n",
              "<style scoped>\n",
              "    .dataframe tbody tr th:only-of-type {\n",
              "        vertical-align: middle;\n",
              "    }\n",
              "\n",
              "    .dataframe tbody tr th {\n",
              "        vertical-align: top;\n",
              "    }\n",
              "\n",
              "    .dataframe thead th {\n",
              "        text-align: right;\n",
              "    }\n",
              "</style>\n",
              "<table border=\"1\" class=\"dataframe\">\n",
              "  <thead>\n",
              "    <tr style=\"text-align: right;\">\n",
              "      <th></th>\n",
              "      <th>period</th>\n",
              "      <th>short_desc</th>\n",
              "      <th>temp</th>\n",
              "      <th>desc</th>\n",
              "    </tr>\n",
              "  </thead>\n",
              "  <tbody>\n",
              "    <tr>\n",
              "      <th>0</th>\n",
              "      <td>Tonight</td>\n",
              "      <td>Cloudy thenDense Fog</td>\n",
              "      <td>Low: 51 °F</td>\n",
              "      <td>Tonight: Widespread dense fog, mainly after 1a...</td>\n",
              "    </tr>\n",
              "    <tr>\n",
              "      <th>1</th>\n",
              "      <td>Tuesday</td>\n",
              "      <td>Fog thenMostly Cloudy</td>\n",
              "      <td>High: 65 °F</td>\n",
              "      <td>Tuesday: Widespread fog before 10am.  Otherwis...</td>\n",
              "    </tr>\n",
              "    <tr>\n",
              "      <th>2</th>\n",
              "      <td>TuesdayNight</td>\n",
              "      <td>Cloudy</td>\n",
              "      <td>Low: 58 °F</td>\n",
              "      <td>Tuesday Night: Cloudy, with a low around 58. S...</td>\n",
              "    </tr>\n",
              "    <tr>\n",
              "      <th>3</th>\n",
              "      <td>Wednesday</td>\n",
              "      <td>Mostly Cloudy</td>\n",
              "      <td>High: 73 °F</td>\n",
              "      <td>Wednesday: Mostly cloudy, with a high near 73....</td>\n",
              "    </tr>\n",
              "    <tr>\n",
              "      <th>4</th>\n",
              "      <td>WednesdayNight</td>\n",
              "      <td>ChanceT-storms</td>\n",
              "      <td>Low: 46 °F</td>\n",
              "      <td>Wednesday Night: A 30 percent chance of shower...</td>\n",
              "    </tr>\n",
              "    <tr>\n",
              "      <th>5</th>\n",
              "      <td>Thursday</td>\n",
              "      <td>ShowersLikely</td>\n",
              "      <td>High: 54 °F</td>\n",
              "      <td>Thursday: Showers likely and possibly a thunde...</td>\n",
              "    </tr>\n",
              "    <tr>\n",
              "      <th>6</th>\n",
              "      <td>ThursdayNight</td>\n",
              "      <td>Showers</td>\n",
              "      <td>Low: 48 °F</td>\n",
              "      <td>Thursday Night: Showers and possibly a thunder...</td>\n",
              "    </tr>\n",
              "    <tr>\n",
              "      <th>7</th>\n",
              "      <td>Friday</td>\n",
              "      <td>Showers</td>\n",
              "      <td>High: 67 °F</td>\n",
              "      <td>Friday: Showers and possibly a thunderstorm.  ...</td>\n",
              "    </tr>\n",
              "    <tr>\n",
              "      <th>8</th>\n",
              "      <td>FridayNight</td>\n",
              "      <td>ChanceShowers</td>\n",
              "      <td>Low: 45 °F</td>\n",
              "      <td>Friday Night: A 30 percent chance of showers a...</td>\n",
              "    </tr>\n",
              "  </tbody>\n",
              "</table>\n",
              "</div>"
            ],
            "text/plain": [
              "           period  ...                                               desc\n",
              "0         Tonight  ...  Tonight: Widespread dense fog, mainly after 1a...\n",
              "1         Tuesday  ...  Tuesday: Widespread fog before 10am.  Otherwis...\n",
              "2    TuesdayNight  ...  Tuesday Night: Cloudy, with a low around 58. S...\n",
              "3       Wednesday  ...  Wednesday: Mostly cloudy, with a high near 73....\n",
              "4  WednesdayNight  ...  Wednesday Night: A 30 percent chance of shower...\n",
              "5        Thursday  ...  Thursday: Showers likely and possibly a thunde...\n",
              "6   ThursdayNight  ...  Thursday Night: Showers and possibly a thunder...\n",
              "7          Friday  ...  Friday: Showers and possibly a thunderstorm.  ...\n",
              "8     FridayNight  ...  Friday Night: A 30 percent chance of showers a...\n",
              "\n",
              "[9 rows x 4 columns]"
            ]
          },
          "metadata": {
            "tags": []
          },
          "execution_count": 6
        }
      ]
    },
    {
      "cell_type": "markdown",
      "metadata": {
        "id": "EFNh1wVsjVsr",
        "colab_type": "text"
      },
      "source": [
        "# Second Example: Example for data visualization."
      ]
    },
    {
      "cell_type": "code",
      "metadata": {
        "id": "Cq6JY7oMjiVt",
        "colab_type": "code",
        "colab": {
          "base_uri": "https://localhost:8080/",
          "height": 295
        },
        "outputId": "e83167ef-bb79-4c77-bafb-4655e679315f"
      },
      "source": [
        "import matplotlib.pyplot as plt\n",
        "import matplotlib.tri as tri\n",
        "import numpy as np\n",
        "\n",
        "xy = np.asarray([\n",
        "    [-0.101, 0.872], [-0.080, 0.883], [-0.069, 0.888], [-0.054, 0.890],\n",
        "    [-0.045, 0.897], [-0.057, 0.895], [-0.073, 0.900], [-0.087, 0.898],\n",
        "    [-0.090, 0.904], [-0.069, 0.907], [-0.069, 0.921], [-0.080, 0.919],\n",
        "    [-0.073, 0.928], [-0.052, 0.930], [-0.048, 0.942], [-0.062, 0.949],\n",
        "    [-0.054, 0.958], [-0.069, 0.954], [-0.087, 0.952], [-0.087, 0.959],\n",
        "    [-0.080, 0.966], [-0.085, 0.973], [-0.087, 0.965], [-0.097, 0.965],\n",
        "    [-0.097, 0.975], [-0.092, 0.984], [-0.101, 0.980], [-0.108, 0.980],\n",
        "    [-0.104, 0.987], [-0.102, 0.993], [-0.115, 1.001], [-0.099, 0.996],\n",
        "    [-0.101, 1.007], [-0.090, 1.010], [-0.087, 1.021], [-0.069, 1.021],\n",
        "    [-0.052, 1.022], [-0.052, 1.017], [-0.069, 1.010], [-0.064, 1.005],\n",
        "    [-0.048, 1.005], [-0.031, 1.005], [-0.031, 0.996], [-0.040, 0.987],\n",
        "    [-0.045, 0.980], [-0.052, 0.975], [-0.040, 0.973], [-0.026, 0.968],\n",
        "    [-0.020, 0.954], [-0.006, 0.947], [ 0.003, 0.935], [ 0.006, 0.926],\n",
        "    [ 0.005, 0.921], [ 0.022, 0.923], [ 0.033, 0.912], [ 0.029, 0.905],\n",
        "    [ 0.017, 0.900], [ 0.012, 0.895], [ 0.027, 0.893], [ 0.019, 0.886],\n",
        "    [ 0.001, 0.883], [-0.012, 0.884], [-0.029, 0.883], [-0.038, 0.879],\n",
        "    [-0.057, 0.881], [-0.062, 0.876], [-0.078, 0.876], [-0.087, 0.872],\n",
        "    [-0.030, 0.907], [-0.007, 0.905], [-0.057, 0.916], [-0.025, 0.933],\n",
        "    [-0.077, 0.990], [-0.059, 0.993]])\n",
        "x, y = np.rad2deg(xy).T\n",
        "\n",
        "triangles = np.asarray([\n",
        "    [67, 66,  1], [65,  2, 66], [ 1, 66,  2], [64,  2, 65], [63,  3, 64],\n",
        "    [60, 59, 57], [ 2, 64,  3], [ 3, 63,  4], [ 0, 67,  1], [62,  4, 63],\n",
        "    [57, 59, 56], [59, 58, 56], [61, 60, 69], [57, 69, 60], [ 4, 62, 68],\n",
        "    [ 6,  5,  9], [61, 68, 62], [69, 68, 61], [ 9,  5, 70], [ 6,  8,  7],\n",
        "    [ 4, 70,  5], [ 8,  6,  9], [56, 69, 57], [69, 56, 52], [70, 10,  9],\n",
        "    [54, 53, 55], [56, 55, 53], [68, 70,  4], [52, 56, 53], [11, 10, 12],\n",
        "    [69, 71, 68], [68, 13, 70], [10, 70, 13], [51, 50, 52], [13, 68, 71],\n",
        "    [52, 71, 69], [12, 10, 13], [71, 52, 50], [71, 14, 13], [50, 49, 71],\n",
        "    [49, 48, 71], [14, 16, 15], [14, 71, 48], [17, 19, 18], [17, 20, 19],\n",
        "    [48, 16, 14], [48, 47, 16], [47, 46, 16], [16, 46, 45], [23, 22, 24],\n",
        "    [21, 24, 22], [17, 16, 45], [20, 17, 45], [21, 25, 24], [27, 26, 28],\n",
        "    [20, 72, 21], [25, 21, 72], [45, 72, 20], [25, 28, 26], [44, 73, 45],\n",
        "    [72, 45, 73], [28, 25, 29], [29, 25, 31], [43, 73, 44], [73, 43, 40],\n",
        "    [72, 73, 39], [72, 31, 25], [42, 40, 43], [31, 30, 29], [39, 73, 40],\n",
        "    [42, 41, 40], [72, 33, 31], [32, 31, 33], [39, 38, 72], [33, 72, 38],\n",
        "    [33, 38, 34], [37, 35, 38], [34, 38, 35], [35, 37, 36]])\n",
        "\n",
        "xmid = x[triangles].mean(axis=1)\n",
        "ymid = y[triangles].mean(axis=1)\n",
        "x0 = -5\n",
        "y0 = 52\n",
        "zfaces = np.exp(-0.01 * ((xmid - x0) * (xmid - x0) +\n",
        "                         (ymid - y0) * (ymid - y0)))\n",
        "\n",
        "fig3, ax3 = plt.subplots()\n",
        "ax3.set_aspect('equal')\n",
        "tpc = ax3.tripcolor(x, y, triangles, facecolors=zfaces, edgecolors='k')\n",
        "fig3.colorbar(tpc)\n",
        "ax3.set_title('tripcolor of user-specified triangulation')\n",
        "ax3.set_xlabel('Longitude (degrees)')\n",
        "ax3.set_ylabel('Latitude (degrees)')\n",
        "\n",
        "plt.show()"
      ],
      "execution_count": 8,
      "outputs": [
        {
          "output_type": "display_data",
          "data": {
            "image/png": "[encoded data removed]",
            "text/plain": [
              "<Figure size 432x288 with 2 Axes>"
            ]
          },
          "metadata": {
            "tags": []
          }
        }
      ]
    },
    {
      "cell_type": "markdown",
      "metadata": {
        "id": "YP-yPuZSlW2y",
        "colab_type": "text"
      },
      "source": [
        "# Third example: Build your first chatbot using Python\n",
        "\n",
        "Answer simple questions:\n",
        "\n",
        "(1) Hi\n",
        "\n",
        "(2) How are you?\n",
        "\n",
        "(3) I'm also doing good\n",
        "\n",
        "(4) What is your name?\n",
        "\n",
        "(5) What is your age?\n",
        "\n",
        "(6) Sorry Chatty"
      ]
    },
    {
      "cell_type": "code",
      "metadata": {
        "id": "RVgjys8ElU-g",
        "colab_type": "code",
        "colab": {}
      },
      "source": [
        "from nltk.chat.util import Chat, reflections\n",
        "pairs = [\n",
        "    [\n",
        "        r\"my name is (.*)\",\n",
        "        [\"Hello %1, How are you today ?\",]\n",
        "    ],\n",
        "     [\n",
        "        r\"what is your name ?\",\n",
        "        [\"My name is Chatty and I'm a chatbot ?\",]\n",
        "    ],\n",
        "    [\n",
        "        r\"how are you ?\",\n",
        "        [\"I'm doing good\\nHow about You ?\",]\n",
        "    ],\n",
        "    [\n",
        "        r\"sorry (.*)\",\n",
        "        [\"Its alright\",\"Its OK, never mind\",]\n",
        "    ],\n",
        "    [\n",
        "        r\"i'm (.*) doing good\",\n",
        "        [\"Nice to hear that\",\"Alright :)\",]\n",
        "    ],\n",
        "    [\n",
        "        r\"hi|hey|hello\",\n",
        "        [\"Hello\", \"Hey there\",]\n",
        "    ],\n",
        "    [\n",
        "        r\"(.*) age?\",\n",
        "        [\"I'm a computer program dude\\nSeriously you are asking me this?\",]\n",
        "        \n",
        "    ],\n",
        "    [\n",
        "        r\"what (.*) want ?\",\n",
        "        [\"Make me an offer I can't refuse\",]\n",
        "        \n",
        "    ],\n",
        "    [\n",
        "        r\"(.*) created ?\",\n",
        "        [\"Nagesh created me using Python's NLTK library \",\"top secret ;)\",]\n",
        "    ],\n",
        "    [\n",
        "        r\"(.*) (location|city) ?\",\n",
        "        ['Chennai, Tamil Nadu',]\n",
        "    ],\n",
        "    [\n",
        "        r\"how is weather in (.*)?\",\n",
        "        [\"Weather in %1 is awesome like always\",\"Too hot man here in %1\",\"Too cold man here in %1\",\"Never even heard about %1\"]\n",
        "    ],\n",
        "    [\n",
        "        r\"i work in (.*)?\",\n",
        "        [\"%1 is an Amazing company, I have heard about it. But they are in huge loss these days.\",]\n",
        "    ],\n",
        "[\n",
        "        r\"(.*)raining in (.*)\",\n",
        "        [\"No rain since last week here in %2\",\"Damn its raining too much here in %2\"]\n",
        "    ],\n",
        "    [\n",
        "        r\"how (.*) health(.*)\",\n",
        "        [\"I'm a computer program, so I'm always healthy \",]\n",
        "    ],\n",
        "    [\n",
        "        r\"(.*) (sports|game) ?\",\n",
        "        [\"I'm a very big fan of Football\",]\n",
        "    ],\n",
        "    [\n",
        "        r\"who (.*) sportsperson ?\",\n",
        "        [\"Messy\",\"Ronaldo\",\"Roony\"]\n",
        "],\n",
        "    [\n",
        "        r\"who (.*) (moviestar|actor)?\",\n",
        "        [\"Brad Pitt\"]\n",
        "],\n",
        "    [\n",
        "        r\"quit\",\n",
        "        [\"BBye take care. See you soon :) \",\"It was nice talking to you. See you soon :)\"]\n",
        "],\n",
        "]\n",
        "def chatty():\n",
        "    print(\"Hi, I'm Chatty and I chat alot ;)\\nPlease type lowercase English language to start a conversation. Type quit to leave \") #default message at the start\n",
        "    chat = Chat(pairs, reflections)\n",
        "    chat.converse()\n",
        "if __name__ == \"__main__\":\n",
        "    chatty()"
      ],
      "execution_count": 0,
      "outputs": []
    },
    {
      "cell_type": "markdown",
      "metadata": {
        "id": "6J5olE2armRm",
        "colab_type": "text"
      },
      "source": [
        "# Fourth Example: Face Detection\n",
        "\n",
        "https://beta.deepnote.com/project/7d8320a1-1b53-4619-8263-be65e6a1029e#"
      ]
    },
    {
      "cell_type": "markdown",
      "metadata": {
        "id": "VZM9YGbKsAMQ",
        "colab_type": "text"
      },
      "source": [
        "# Fifth Example: Sentiment Analysis"
      ]
    },
    {
      "cell_type": "code",
      "metadata": {
        "id": "JJxhFgUfxkcq",
        "colab_type": "code",
        "colab": {
          "base_uri": "https://localhost:8080/",
          "height": 69
        },
        "outputId": "8696c995-ab8c-4d78-bd6a-2aa265475509"
      },
      "source": [
        "! pip install textblob"
      ],
      "execution_count": 43,
      "outputs": [
        {
          "output_type": "stream",
          "text": [
            "Requirement already satisfied: textblob in /usr/local/lib/python3.6/dist-packages (0.15.3)\n",
            "Requirement already satisfied: nltk>=3.1 in /usr/local/lib/python3.6/dist-packages (from textblob) (3.2.5)\n",
            "Requirement already satisfied: six in /usr/local/lib/python3.6/dist-packages (from nltk>=3.1->textblob) (1.12.0)\n"
          ],
          "name": "stdout"
        }
      ]
    },
    {
      "cell_type": "code",
      "metadata": {
        "id": "UTw3MnLKxizp",
        "colab_type": "code",
        "colab": {
          "base_uri": "https://localhost:8080/",
          "height": 104
        },
        "outputId": "b11ddf4b-6bf1-4868-a2ea-0b4420f01bfa"
      },
      "source": [
        "import nltk\n",
        "nltk.download('movie_reviews')\n",
        "nltk.download('punkt')\n",
        "from textblob import TextBlob\n",
        "from textblob.sentiments import NaiveBayesAnalyzer\n",
        "opinion = TextBlob(\"EliteDataScience.com is dope!\", analyzer=NaiveBayesAnalyzer())\n",
        "opinion.sentiment"
      ],
      "execution_count": 46,
      "outputs": [
        {
          "output_type": "stream",
          "text": [
            "[nltk_data] Downloading package movie_reviews to /root/nltk_data...\n",
            "[nltk_data]   Package movie_reviews is already up-to-date!\n",
            "[nltk_data] Downloading package punkt to /root/nltk_data...\n",
            "[nltk_data]   Unzipping tokenizers/punkt.zip.\n"
          ],
          "name": "stdout"
        },
        {
          "output_type": "execute_result",
          "data": {
            "text/plain": [
              "Sentiment(classification='neg', p_pos=0.35000000000000003, p_neg=0.6499999999999997)"
            ]
          },
          "metadata": {
            "tags": []
          },
          "execution_count": 46
        }
      ]
    }
  ]
}